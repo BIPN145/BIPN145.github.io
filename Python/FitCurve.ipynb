{
 "cells": [
  {
   "cell_type": "markdown",
   "id": "3ca35305",
   "metadata": {},
   "source": [
    "# Fit a curved line\n",
    "\n",
    "This notebook will help you plot the **strength-duration curve** for your earthworm.\n",
    "\n",
    "**Note**: If you're new to Jupyter Notebooks and/or Python, please be sure to work through the Introduction notebook before this one."
   ]
  },
  {
   "cell_type": "markdown",
   "id": "5200e250",
   "metadata": {},
   "source": [
    "## Step 1. Define values to plot\n",
    "With matplotlib imported, we can now use the scatter function by calling `plt.scatter()`. However, we need to define what to plot first. One straightforward way to think about this is to define an x variable and a y variable. Below, there are **lists** of values (defined in brackets `[ ]`) assigned to `x` and `y`. Replace these with your own values, depending on what you'd like to plot on the x and y axis of your strength duration curve.\n",
    "\n",
    "**Note**: Remember that in a scatterplot, each dot has both an x and a y value. Therefore, these lists should be the same length. The coordinate for each point will be the values at the same **index** in `x` and `y`. For example, the coordinate for the very first point will be `x[0],y[0]`."
   ]
  },
  {
   "cell_type": "code",
   "execution_count": null,
   "id": "5ed7b96f",
   "metadata": {},
   "outputs": [],
   "source": [
    "# Add your data points here\n",
    "x = [1,2,3,4,5,6]\n",
    "y = [1,0.8,0.5,0.45,0.4,0.4]\n",
    "\n",
    "%whos"
   ]
  },
  {
   "cell_type": "markdown",
   "id": "2915a9d8",
   "metadata": {},
   "source": [
    "## Step 2. Fit a hyperbolic curve to hypothetical data\n",
    "\n",
    "The strength-duration curve should follow a **hyperbolic** function:\n",
    "\n",
    "$$\n",
    "a = r + \\frac{r*c}{t}\n",
    "$$\n",
    "\n",
    "where **a** is the stimulus amplitude (in amps or volts), **r** is the rheobase, **c** is the chronaxie, and **t** is time (the width of the stimulus).\n",
    "\n",
    "We'll first define that function below:"
   ]
  },
  {
   "cell_type": "code",
   "execution_count": null,
   "id": "22b1924c",
   "metadata": {},
   "outputs": [],
   "source": [
    "# Define the hyperbolic curve function\n",
    "def func(t, r, c):\n",
    "    return r+((r*c)/t) #hyperbolic function"
   ]
  },
  {
   "cell_type": "markdown",
   "id": "d43e7ddb",
   "metadata": {},
   "source": [
    "To demonstrate what this function looks like, we'll use `np.linspace()` to generate a list of 100 numbers from 0 to 1, with 0.01 spacing. We'll also define a sample rheobase and chronaxie. Then, from those points, we'll fit a hyperbolic curve using `scipy.optimize.curve_fit()`, which uses non-linear least squares to fit a function to data. See the [curve_fit documentation](https://docs.scipy.org/doc/scipy/reference/generated/scipy.optimize.curve_fit.html)."
   ]
  },
  {
   "cell_type": "code",
   "execution_count": null,
   "id": "0633d11c",
   "metadata": {
    "scrolled": false
   },
   "outputs": [],
   "source": [
    "# Import numpy & curve fitting package\n",
    "import numpy as np\n",
    "from scipy.optimize import curve_fit\n",
    "\n",
    "# Import & configure plotting packages\n",
    "import matplotlib.pyplot as plt\n",
    "%matplotlib inline \n",
    "%config InlineBackend.figure_format = 'retina'\n",
    "\n",
    "# Define pulse\n",
    "pulse_width = np.linspace(0.01,1,100)\n",
    "rheobase = .5 # in V\n",
    "chronaxie = 0.1 # in ms\n",
    "\n",
    "amplitude = rheobase+((rheobase*chronaxie)/pulse_width)\n",
    "\n",
    "# Use our function & fit the curve!\n",
    "sample_popt, sample_pcov = curve_fit(func,pulse_width,amplitude)\n",
    "\n",
    "# Plot a regression line, using the slope & intercept\n",
    "plt.plot(pulse_width, func(pulse_width, *sample_popt), 'black')\n",
    "\n",
    "# Plot chronaxie & rheobase lines\n",
    "plt.vlines(chronaxie,amplitude.min(),amplitude.max(),color='blue',linestyle='--')\n",
    "plt.hlines(rheobase,pulse_width.min(),pulse_width.max(),color='red',linestyle='--')\n",
    "\n",
    "# Label the axes & show plot\n",
    "plt.ylabel('Stimulus Amplitude (Volts)')\n",
    "plt.xlabel('Stimulus Width (Seconds)')\n",
    "\n",
    "plt.show()"
   ]
  },
  {
   "cell_type": "markdown",
   "id": "42a2181d",
   "metadata": {},
   "source": [
    "## Step 3. Fit a hyperbolic curve to *your* data\n",
    "\n",
    "Above, you can see a perfectly fit curve, with the <font color='red'><b>rheobase</b></font> and  <font color='blue'><b>chronaxie</b></font>  labeled.\n",
    "    \n",
    "Now, let's do the same, but with your data."
   ]
  },
  {
   "cell_type": "code",
   "execution_count": null,
   "id": "ed40b786",
   "metadata": {},
   "outputs": [],
   "source": [
    "# Transform x & y data into arrays\n",
    "x = np.array(x)\n",
    "y = np.array(y)\n",
    "\n",
    "# Fit the curve with your data!\n",
    "popt, pcov = curve_fit(func,x,y)\n",
    "\n",
    "# Generate additional x-values to make a smoooth curve\n",
    "xnew = np.linspace(x.min(),x.max(), 100)\n",
    "\n",
    "# Plot a regression line, using the slope & intercept\n",
    "plt.plot(xnew, func(xnew, *popt), 'black')\n",
    "plt.scatter(x,y)\n",
    "\n",
    "# Optional -- can you figure out how to add rheobase & chronaxie?\n",
    "\n",
    "# Add your labels here!\n",
    "\n",
    "plt.show()"
   ]
  },
  {
   "cell_type": "markdown",
   "id": "dcd3e0e3",
   "metadata": {},
   "source": [
    "It is also important to know how well our curve fits. To do so, we'll calculate the residuals and then the sum of squares."
   ]
  },
  {
   "cell_type": "code",
   "execution_count": null,
   "id": "04b4ffad",
   "metadata": {},
   "outputs": [],
   "source": [
    "#  Calculate the distance (on y axis) from data to curve\n",
    "residuals = y - func(x, *popt)\n",
    "\n",
    "# Calculate the residual sum of squares\n",
    "ss_res = np.sum(residuals**2)\n",
    "\n",
    "# Calculate the total sum of squares\n",
    "ss_tot = np.sum((y-np.mean(y))**2)\n",
    "\n",
    "# Calculate r-squared\n",
    "r_squared = 1 - (ss_res / ss_tot)\n",
    "\n",
    "print('R^2 = ',r_squared)\n",
    "print('Rheobase: ' , popt[0])\n",
    "print('Chronaxie:  ', popt[1])"
   ]
  }
 ],
 "metadata": {
  "kernelspec": {
   "display_name": "Python 3",
   "language": "python",
   "name": "python3"
  },
  "language_info": {
   "codemirror_mode": {
    "name": "ipython",
    "version": 3
   },
   "file_extension": ".py",
   "mimetype": "text/x-python",
   "name": "python",
   "nbconvert_exporter": "python",
   "pygments_lexer": "ipython3",
   "version": "3.7.3"
  }
 },
 "nbformat": 4,
 "nbformat_minor": 5
}
