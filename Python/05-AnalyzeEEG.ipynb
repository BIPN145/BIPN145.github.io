{
 "cells": [
  {
   "cell_type": "markdown",
   "id": "d12644d4",
   "metadata": {},
   "source": [
    "# Analyze EEG data\n",
    "\n",
    "This notebook will help you prepare the figures for your EEG lab report.\n",
    "\n",
    "To run this notebook:\n",
    "\n",
    "1. <mark>Export two separate **LabChart Text File (.txt)** of 30 seconds of data for <i>both</i> eyes open and closed. </mark>\n",
    "2. Upload the file to your DataHub, into same folder as this notebook.\n",
    "3. Change the filename below to match the name of your file."
   ]
  },
  {
   "cell_type": "code",
   "execution_count": null,
   "id": "a0fe181c",
   "metadata": {},
   "outputs": [],
   "source": [
    "import numpy as np\n",
    "\n",
    "# Change the filenames to EXACTLY match your files\n",
    "closed_filename = 'EEG_Trial1_EyesClosed.txt'\n",
    "open_filename = 'EEG_Trial1_EyesOpen.txt'\n",
    "\n",
    "sampling_freq = 400\n",
    "\n",
    "# Define column names\n",
    "columns = ['time', 'recording']\n",
    "\n",
    "# Use numpy genfromtxt to import both files\n",
    "closed_data = np.genfromtxt(closed_filename, dtype=float, usecols=(0,1), skip_header=6, delimiter='\\t', names=columns, encoding = 'unicode_escape')\n",
    "open_data = np.genfromtxt(open_filename, dtype=float, usecols=(0,1), skip_header=6, delimiter='\\t', names=columns, encoding = 'unicode_escape')\n",
    "\n",
    "# Define a function to remove nan values\n",
    "def nan_helper(y):\n",
    "    return np.isnan(y), lambda z: z.nonzero()[0]\n",
    "\n",
    "# Save recording & timestamps as variables\n",
    "closed_timestamps = closed_data['time']\n",
    "closed_recording = closed_data['recording']\n",
    "nans, x = nan_helper(closed_recording)\n",
    "closed_recording[nans]= np.interp(x(nans), x(~nans), closed_recording[~nans])\n",
    "\n",
    "open_timestamps = open_data['time']\n",
    "open_recording = open_data['recording']\n",
    "nans, x = nan_helper(open_recording)\n",
    "open_recording[nans]= np.interp(x(nans), x(~nans), open_recording[~nans])\n",
    "\n",
    "closed_recording"
   ]
  },
  {
   "cell_type": "markdown",
   "id": "e60614a9",
   "metadata": {},
   "source": [
    "## Plot the data\n",
    "Now, we can plot the data!\n",
    "\n",
    "**Notes**:\n",
    "* You may want to change the x and y labels below.\n",
    "* You can also uncomment the line that says `plt.xlim` to change how much of the data is plotted.\n",
    "* You can use this same cell to plot your eyes open data by changing `closed_timestamps` to `open_timestamps` and `closed_recording` to `open_recording`."
   ]
  },
  {
   "cell_type": "code",
   "execution_count": null,
   "id": "ec929885",
   "metadata": {},
   "outputs": [],
   "source": [
    "# Import plotting packages\n",
    "import matplotlib.pyplot as plt\n",
    "%matplotlib inline \n",
    "%config InlineBackend.figure_format = 'retina'\n",
    "\n",
    "# Set up figure\n",
    "fig,ax = plt.subplots(figsize=(10,4))\n",
    "\n",
    "# Change the variables below if you'd like to plot eyes open instead\n",
    "plt.plot(closed_timestamps,closed_recording)\n",
    "\n",
    "# You may need to change the x label!\n",
    "plt.xlabel('Time') \n",
    "\n",
    "# You may need to change the y label!\n",
    "plt.ylabel('Voltage')\n",
    "\n",
    "# You can uncomment the line below to restrict the x axis plotting -- for example, to zoom into alpha waves\n",
    "#plt.xlim([45,50])\n",
    "\n",
    "plt.show()"
   ]
  },
  {
   "cell_type": "markdown",
   "id": "913d59e0",
   "metadata": {},
   "source": [
    "##  Calculate the power spectrum of our EEG data\n",
    "Below, we'll implement a **fast Fourier transform** (fft) to see the frequencies in our data."
   ]
  },
  {
   "cell_type": "code",
   "execution_count": null,
   "id": "ca89ab34",
   "metadata": {},
   "outputs": [],
   "source": [
    "# Calculate the fourier transform of complex signal\n",
    "ft = np.fft.fft(closed_recording)/len(closed_timestamps) # Compute the fft, normalized by time\n",
    "\n",
    "# Find frequency values for the x axis\n",
    "nyq = sampling_freq/2 # Determine the nyquist frequency\n",
    "\n",
    "# Create freq bins for plotting by creating a vector from 0 to nyquist, with as many points as in fft\n",
    "fx_bins = np.linspace(0,nyq,int(np.floor(len(closed_recording)/2))+1)\n",
    "\n",
    "# plotting up to 200 Hz\n",
    "plt.figure(figsize=(8, 6))\n",
    "plt.plot(fx_bins[0:1500],abs(ft[0:1500]))\n",
    "plt.ylabel('Power (V^2 / Hz)')\n",
    "plt.xlabel('Frequency (Hz)')\n",
    "plt.title('FFT of our EEG signal')\n",
    "plt.show()"
   ]
  },
  {
   "cell_type": "markdown",
   "id": "355ac018",
   "metadata": {},
   "source": [
    "Hmm, this is interesting but a bit noisy. Maybe we need a method that is _better_ than the simple fast fourier transform for this type of data. Thankfully, there's a way to smooth out our fft without losing too much information. \n",
    "\n",
    "The most widely-used method to do that is [**Welch's Method**](https://en.wikipedia.org/wiki/Welch%27s_method), which consists in averaging consecutive Fourier transform of small windows of the signal, with or without overlapping. Basically, we calculate the fft of a signal across a few sliding windows, and then calculate the mean PSD from all the sliding windows. This is how LabChart generates the **power spectral density** plot as well!\n",
    "\n",
    "The `freqs` vector contains the x-axis (frequency bins) and the `psd` vector contains the y-axis (power spectral density). The units of the power spectral density here are V^2 per Hz, reflecting that these values are for a particular frequency range.\n",
    "\n",
    "**Notes**:\n",
    "* <mark>Check that the values here are *almost identical* to your PSD in LabChart. If not, you may need to change the y-axis labels.</mark>\n",
    "* If you'd like to plot both the eyes opened and closed data, you can uncomment the three lines indicated below.\n",
    "* You can change the x limit by uncommenting & editing the `plt.xlim` line."
   ]
  },
  {
   "cell_type": "code",
   "execution_count": null,
   "id": "ceba18a8",
   "metadata": {},
   "outputs": [],
   "source": [
    "from scipy import signal\n",
    "\n",
    "# Define sliding window length (4 seconds, which will give us 2 full cycles at 0.5 Hz)\n",
    "win = 4 * sampling_freq\n",
    "freqs, psd = signal.welch(closed_recording, sampling_freq, nperseg=win)\n",
    "\n",
    "# Plot the power spectrum\n",
    "plt.figure(figsize=(8, 6))\n",
    "plt.plot(freqs, psd)\n",
    "\n",
    "# Uncomment the lines below to plot two lines\n",
    "#open_freqs, open_psd = signal.welch(open_recording, sampling_freq, nperseg=win)\n",
    "#plt.plot(open_freqs, open_psd)\n",
    "#plt.legend(['Closed','Open'])\n",
    "\n",
    "plt.xlabel('Frequency (Hz)')\n",
    "plt.ylabel('Power spectral density (pV^2 / Hz)') # Check that these units make sense!\n",
    "#plt.xlim([0,75]) # Change x limit\n",
    "\n",
    "plt.title(\"Welch's PSD\")\n",
    "plt.show()"
   ]
  },
  {
   "cell_type": "markdown",
   "id": "96bfaca1",
   "metadata": {},
   "source": [
    "## Generate & plot spectrogram\n",
    "As a final step, we can plot a **spectrogram** of our signal. This is a common way to visualize EEG signals. The spectrogram results from doing the FFT on the snippet of the signal that falls into a “window,” plotting the frequency content in the window, then moving the window in time and plotting the frequency content again (and again) until the window has moved across the entire signal."
   ]
  },
  {
   "cell_type": "code",
   "execution_count": null,
   "id": "2d06f455",
   "metadata": {},
   "outputs": [],
   "source": [
    "vmax = 20 # change the max value on your spectogram -- you may need to adjust this\n",
    "\n",
    "wind = np.hanning(1024) # Create a \"hanning\" window with a given binning window size\n",
    "\n",
    "# Create the spectrogram and plot\n",
    "fig = plt.figure() \n",
    "\n",
    "# Change closed to open below to generate for open\n",
    "f, tt, Sxx = signal.spectrogram(closed_recording,sampling_freq,wind,len(wind),len(wind)-1)\n",
    "\n",
    "# You can change cmap & vmax if you want\n",
    "plt.pcolormesh(tt,f,Sxx,cmap='viridis',vmax=vmax)\n",
    "plt.ylabel('Frequency (Hz)')\n",
    "plt.xlabel('Time (sec)')\n",
    "# plt.ylim([0,75]) # set the ylimit\n",
    "cbar = plt.colorbar()\n",
    "cbar.ax.set_ylabel('Power ($V^2$)')\n",
    "plt.show()"
   ]
  }
 ],
 "metadata": {
  "kernelspec": {
   "display_name": "Python 3",
   "language": "python",
   "name": "python3"
  },
  "language_info": {
   "codemirror_mode": {
    "name": "ipython",
    "version": 3
   },
   "file_extension": ".py",
   "mimetype": "text/x-python",
   "name": "python",
   "nbconvert_exporter": "python",
   "pygments_lexer": "ipython3",
   "version": "3.7.3"
  }
 },
 "nbformat": 4,
 "nbformat_minor": 5
}
