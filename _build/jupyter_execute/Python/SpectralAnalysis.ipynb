{
 "cells": [
  {
   "cell_type": "markdown",
   "id": "d12644d4",
   "metadata": {},
   "source": [
    "# Analyze EEG data\n",
    "\n",
    "This notebook will help you prepare the figures for your EEG lab report.\n",
    "\n",
    "To run this notebook:\n",
    "\n",
    "1. <mark>Export two separate **LabChart Text File (.txt)** of 30 seconds of data for <i>both</i> eyes open and closed. </mark>\n",
    "2. Upload the file to your DataHub, into same folder as this notebook.\n",
    "3. Change the filename below to match the name of your file."
   ]
  },
  {
   "cell_type": "code",
   "execution_count": 1,
   "id": "a0fe181c",
   "metadata": {},
   "outputs": [
    {
     "ename": "FileNotFoundError",
     "evalue": "EEG_Trial1_EyesClosed.txt not found.",
     "output_type": "error",
     "traceback": [
      "\u001b[0;31m---------------------------------------------------------------------------\u001b[0m",
      "\u001b[0;31mFileNotFoundError\u001b[0m                         Traceback (most recent call last)",
      "Cell \u001b[0;32mIn[1], line 13\u001b[0m\n\u001b[1;32m     10\u001b[0m columns \u001b[38;5;241m=\u001b[39m [\u001b[38;5;124m'\u001b[39m\u001b[38;5;124mtime\u001b[39m\u001b[38;5;124m'\u001b[39m, \u001b[38;5;124m'\u001b[39m\u001b[38;5;124mrecording\u001b[39m\u001b[38;5;124m'\u001b[39m]\n\u001b[1;32m     12\u001b[0m \u001b[38;5;66;03m# Use numpy genfromtxt to import both files\u001b[39;00m\n\u001b[0;32m---> 13\u001b[0m closed_data \u001b[38;5;241m=\u001b[39m \u001b[43mnp\u001b[49m\u001b[38;5;241;43m.\u001b[39;49m\u001b[43mgenfromtxt\u001b[49m\u001b[43m(\u001b[49m\u001b[43mclosed_filename\u001b[49m\u001b[43m,\u001b[49m\u001b[43m \u001b[49m\u001b[43mdtype\u001b[49m\u001b[38;5;241;43m=\u001b[39;49m\u001b[38;5;28;43mfloat\u001b[39;49m\u001b[43m,\u001b[49m\u001b[43m \u001b[49m\u001b[43musecols\u001b[49m\u001b[38;5;241;43m=\u001b[39;49m\u001b[43m(\u001b[49m\u001b[38;5;241;43m0\u001b[39;49m\u001b[43m,\u001b[49m\u001b[38;5;241;43m1\u001b[39;49m\u001b[43m)\u001b[49m\u001b[43m,\u001b[49m\u001b[43m \u001b[49m\u001b[43mskip_header\u001b[49m\u001b[38;5;241;43m=\u001b[39;49m\u001b[38;5;241;43m6\u001b[39;49m\u001b[43m,\u001b[49m\u001b[43m \u001b[49m\u001b[43mdelimiter\u001b[49m\u001b[38;5;241;43m=\u001b[39;49m\u001b[38;5;124;43m'\u001b[39;49m\u001b[38;5;130;43;01m\\t\u001b[39;49;00m\u001b[38;5;124;43m'\u001b[39;49m\u001b[43m,\u001b[49m\u001b[43m \u001b[49m\u001b[43mnames\u001b[49m\u001b[38;5;241;43m=\u001b[39;49m\u001b[43mcolumns\u001b[49m\u001b[43m,\u001b[49m\u001b[43m \u001b[49m\u001b[43mencoding\u001b[49m\u001b[43m \u001b[49m\u001b[38;5;241;43m=\u001b[39;49m\u001b[43m \u001b[49m\u001b[38;5;124;43m'\u001b[39;49m\u001b[38;5;124;43municode_escape\u001b[39;49m\u001b[38;5;124;43m'\u001b[39;49m\u001b[43m)\u001b[49m\n\u001b[1;32m     14\u001b[0m open_data \u001b[38;5;241m=\u001b[39m np\u001b[38;5;241m.\u001b[39mgenfromtxt(open_filename, dtype\u001b[38;5;241m=\u001b[39m\u001b[38;5;28mfloat\u001b[39m, usecols\u001b[38;5;241m=\u001b[39m(\u001b[38;5;241m0\u001b[39m,\u001b[38;5;241m1\u001b[39m), skip_header\u001b[38;5;241m=\u001b[39m\u001b[38;5;241m6\u001b[39m, delimiter\u001b[38;5;241m=\u001b[39m\u001b[38;5;124m'\u001b[39m\u001b[38;5;130;01m\\t\u001b[39;00m\u001b[38;5;124m'\u001b[39m, names\u001b[38;5;241m=\u001b[39mcolumns, encoding \u001b[38;5;241m=\u001b[39m \u001b[38;5;124m'\u001b[39m\u001b[38;5;124municode_escape\u001b[39m\u001b[38;5;124m'\u001b[39m)\n\u001b[1;32m     16\u001b[0m \u001b[38;5;66;03m# Define a function to remove nan values\u001b[39;00m\n",
      "File \u001b[0;32m~/anaconda3/envs/jb/lib/python3.11/site-packages/numpy/lib/npyio.py:1980\u001b[0m, in \u001b[0;36mgenfromtxt\u001b[0;34m(fname, dtype, comments, delimiter, skip_header, skip_footer, converters, missing_values, filling_values, usecols, names, excludelist, deletechars, replace_space, autostrip, case_sensitive, defaultfmt, unpack, usemask, loose, invalid_raise, max_rows, encoding, ndmin, like)\u001b[0m\n\u001b[1;32m   1978\u001b[0m     fname \u001b[38;5;241m=\u001b[39m os_fspath(fname)\n\u001b[1;32m   1979\u001b[0m \u001b[38;5;28;01mif\u001b[39;00m \u001b[38;5;28misinstance\u001b[39m(fname, \u001b[38;5;28mstr\u001b[39m):\n\u001b[0;32m-> 1980\u001b[0m     fid \u001b[38;5;241m=\u001b[39m \u001b[43mnp\u001b[49m\u001b[38;5;241;43m.\u001b[39;49m\u001b[43mlib\u001b[49m\u001b[38;5;241;43m.\u001b[39;49m\u001b[43m_datasource\u001b[49m\u001b[38;5;241;43m.\u001b[39;49m\u001b[43mopen\u001b[49m\u001b[43m(\u001b[49m\u001b[43mfname\u001b[49m\u001b[43m,\u001b[49m\u001b[43m \u001b[49m\u001b[38;5;124;43m'\u001b[39;49m\u001b[38;5;124;43mrt\u001b[39;49m\u001b[38;5;124;43m'\u001b[39;49m\u001b[43m,\u001b[49m\u001b[43m \u001b[49m\u001b[43mencoding\u001b[49m\u001b[38;5;241;43m=\u001b[39;49m\u001b[43mencoding\u001b[49m\u001b[43m)\u001b[49m\n\u001b[1;32m   1981\u001b[0m     fid_ctx \u001b[38;5;241m=\u001b[39m contextlib\u001b[38;5;241m.\u001b[39mclosing(fid)\n\u001b[1;32m   1982\u001b[0m \u001b[38;5;28;01melse\u001b[39;00m:\n",
      "File \u001b[0;32m~/anaconda3/envs/jb/lib/python3.11/site-packages/numpy/lib/_datasource.py:193\u001b[0m, in \u001b[0;36mopen\u001b[0;34m(path, mode, destpath, encoding, newline)\u001b[0m\n\u001b[1;32m    156\u001b[0m \u001b[38;5;250m\u001b[39m\u001b[38;5;124;03m\"\"\"\u001b[39;00m\n\u001b[1;32m    157\u001b[0m \u001b[38;5;124;03mOpen `path` with `mode` and return the file object.\u001b[39;00m\n\u001b[1;32m    158\u001b[0m \n\u001b[0;32m   (...)\u001b[0m\n\u001b[1;32m    189\u001b[0m \n\u001b[1;32m    190\u001b[0m \u001b[38;5;124;03m\"\"\"\u001b[39;00m\n\u001b[1;32m    192\u001b[0m ds \u001b[38;5;241m=\u001b[39m DataSource(destpath)\n\u001b[0;32m--> 193\u001b[0m \u001b[38;5;28;01mreturn\u001b[39;00m \u001b[43mds\u001b[49m\u001b[38;5;241;43m.\u001b[39;49m\u001b[43mopen\u001b[49m\u001b[43m(\u001b[49m\u001b[43mpath\u001b[49m\u001b[43m,\u001b[49m\u001b[43m \u001b[49m\u001b[43mmode\u001b[49m\u001b[43m,\u001b[49m\u001b[43m \u001b[49m\u001b[43mencoding\u001b[49m\u001b[38;5;241;43m=\u001b[39;49m\u001b[43mencoding\u001b[49m\u001b[43m,\u001b[49m\u001b[43m \u001b[49m\u001b[43mnewline\u001b[49m\u001b[38;5;241;43m=\u001b[39;49m\u001b[43mnewline\u001b[49m\u001b[43m)\u001b[49m\n",
      "File \u001b[0;32m~/anaconda3/envs/jb/lib/python3.11/site-packages/numpy/lib/_datasource.py:533\u001b[0m, in \u001b[0;36mDataSource.open\u001b[0;34m(self, path, mode, encoding, newline)\u001b[0m\n\u001b[1;32m    530\u001b[0m     \u001b[38;5;28;01mreturn\u001b[39;00m _file_openers[ext](found, mode\u001b[38;5;241m=\u001b[39mmode,\n\u001b[1;32m    531\u001b[0m                               encoding\u001b[38;5;241m=\u001b[39mencoding, newline\u001b[38;5;241m=\u001b[39mnewline)\n\u001b[1;32m    532\u001b[0m \u001b[38;5;28;01melse\u001b[39;00m:\n\u001b[0;32m--> 533\u001b[0m     \u001b[38;5;28;01mraise\u001b[39;00m \u001b[38;5;167;01mFileNotFoundError\u001b[39;00m(\u001b[38;5;124mf\u001b[39m\u001b[38;5;124m\"\u001b[39m\u001b[38;5;132;01m{\u001b[39;00mpath\u001b[38;5;132;01m}\u001b[39;00m\u001b[38;5;124m not found.\u001b[39m\u001b[38;5;124m\"\u001b[39m)\n",
      "\u001b[0;31mFileNotFoundError\u001b[0m: EEG_Trial1_EyesClosed.txt not found."
     ]
    }
   ],
   "source": [
    "import numpy as np\n",
    "\n",
    "# Change the filenames to EXACTLY match your files\n",
    "closed_filename = 'EEG_Trial1_EyesClosed.txt'\n",
    "open_filename = 'EEG_Trial1_EyesOpen.txt'\n",
    "\n",
    "sampling_freq = 400\n",
    "\n",
    "# Define column names\n",
    "columns = ['time', 'recording']\n",
    "\n",
    "# Use numpy genfromtxt to import both files\n",
    "closed_data = np.genfromtxt(closed_filename, dtype=float, usecols=(0,1), skip_header=6, delimiter='\\t', names=columns, encoding = 'unicode_escape')\n",
    "open_data = np.genfromtxt(open_filename, dtype=float, usecols=(0,1), skip_header=6, delimiter='\\t', names=columns, encoding = 'unicode_escape')\n",
    "\n",
    "# Define a function to remove nan values\n",
    "def nan_helper(y):\n",
    "    return np.isnan(y), lambda z: z.nonzero()[0]\n",
    "\n",
    "# Save recording & timestamps as variables\n",
    "closed_timestamps = closed_data['time']\n",
    "closed_recording = closed_data['recording']\n",
    "nans, x = nan_helper(closed_recording)\n",
    "closed_recording[nans]= np.interp(x(nans), x(~nans), closed_recording[~nans])\n",
    "\n",
    "open_timestamps = open_data['time']\n",
    "open_recording = open_data['recording']\n",
    "nans, x = nan_helper(open_recording)\n",
    "open_recording[nans]= np.interp(x(nans), x(~nans), open_recording[~nans])\n",
    "\n",
    "closed_recording"
   ]
  },
  {
   "cell_type": "markdown",
   "id": "e60614a9",
   "metadata": {},
   "source": [
    "## Plot the data\n",
    "Now, we can plot the data!\n",
    "\n",
    "**Notes**:\n",
    "* You may want to change the x and y labels below.\n",
    "* You can also uncomment the line that says `plt.xlim` to change how much of the data is plotted.\n",
    "* You can use this same cell to plot your eyes open data by changing `closed_timestamps` to `open_timestamps` and `closed_recording` to `open_recording`."
   ]
  },
  {
   "cell_type": "code",
   "execution_count": null,
   "id": "ec929885",
   "metadata": {},
   "outputs": [],
   "source": [
    "# Import plotting packages\n",
    "import matplotlib.pyplot as plt\n",
    "%matplotlib inline \n",
    "%config InlineBackend.figure_format = 'retina'\n",
    "\n",
    "# Set up figure\n",
    "fig,ax = plt.subplots(figsize=(10,4))\n",
    "\n",
    "# Change the variables below if you'd like to plot eyes open instead\n",
    "plt.plot(closed_timestamps,closed_recording)\n",
    "\n",
    "# You may need to change the x label!\n",
    "plt.xlabel('Time') \n",
    "\n",
    "# You may need to change the y label!\n",
    "plt.ylabel('Voltage')\n",
    "\n",
    "# You can uncomment the line below to restrict the x axis plotting -- for example, to zoom into alpha waves\n",
    "#plt.xlim([45,50])\n",
    "\n",
    "plt.show()"
   ]
  },
  {
   "cell_type": "markdown",
   "id": "913d59e0",
   "metadata": {},
   "source": [
    "##  Calculate the power spectrum of our EEG data\n",
    "Below, we'll implement a **fast Fourier transform** (fft) to see the frequencies in our data."
   ]
  },
  {
   "cell_type": "code",
   "execution_count": null,
   "id": "ca89ab34",
   "metadata": {},
   "outputs": [],
   "source": [
    "# Calculate the fourier transform of complex signal\n",
    "ft = np.fft.fft(closed_recording)/len(closed_timestamps) # Compute the fft, normalized by time\n",
    "\n",
    "# Find frequency values for the x axis\n",
    "nyq = sampling_freq/2 # Determine the nyquist frequency\n",
    "\n",
    "# Create freq bins for plotting by creating a vector from 0 to nyquist, with as many points as in fft\n",
    "fx_bins = np.linspace(0,nyq,int(np.floor(len(closed_recording)/2))+1)\n",
    "\n",
    "# plotting up to 200 Hz\n",
    "plt.figure(figsize=(8, 6))\n",
    "plt.plot(fx_bins[0:1500],abs(ft[0:1500]))\n",
    "plt.ylabel('Power (V^2 / Hz)')\n",
    "plt.xlabel('Frequency (Hz)')\n",
    "plt.title('FFT of our EEG signal')\n",
    "plt.show()"
   ]
  },
  {
   "cell_type": "markdown",
   "id": "355ac018",
   "metadata": {},
   "source": [
    "Hmm, this is interesting but a bit noisy. Maybe we need a method that is _better_ than the simple fast fourier transform for this type of data. Thankfully, there's a way to smooth out our fft without losing too much information. \n",
    "\n",
    "The most widely-used method to do that is [**Welch's Method**](https://en.wikipedia.org/wiki/Welch%27s_method), which consists in averaging consecutive Fourier transform of small windows of the signal, with or without overlapping. Basically, we calculate the fft of a signal across a few sliding windows, and then calculate the mean PSD from all the sliding windows. This is how LabChart generates the **power spectral density** plot as well!\n",
    "\n",
    "The `freqs` vector contains the x-axis (frequency bins) and the `psd` vector contains the y-axis (power spectral density). The units of the power spectral density here are V^2 per Hz, reflecting that these values are for a particular frequency range.\n",
    "\n",
    "**Notes**:\n",
    "* <mark>Check that the values here are *almost identical* to your PSD in LabChart. If not, you may need to change the y-axis labels.</mark>\n",
    "* If you'd like to plot both the eyes opened and closed data, you can uncomment the three lines indicated below.\n",
    "* You can change the x limit by uncommenting & editing the `plt.xlim` line."
   ]
  },
  {
   "cell_type": "code",
   "execution_count": null,
   "id": "ceba18a8",
   "metadata": {},
   "outputs": [],
   "source": [
    "from scipy import signal\n",
    "\n",
    "# Define sliding window length (4 seconds, which will give us 2 full cycles at 0.5 Hz)\n",
    "win = 4 * sampling_freq\n",
    "freqs, psd = signal.welch(closed_recording, sampling_freq, nperseg=win)\n",
    "\n",
    "# Plot the power spectrum\n",
    "plt.figure(figsize=(8, 6))\n",
    "plt.plot(freqs, psd)\n",
    "\n",
    "# Uncomment the lines below to plot two lines\n",
    "#open_freqs, open_psd = signal.welch(open_recording, sampling_freq, nperseg=win)\n",
    "#plt.plot(open_freqs, open_psd)\n",
    "#plt.legend(['Closed','Open'])\n",
    "\n",
    "plt.xlabel('Frequency (Hz)')\n",
    "plt.ylabel('Power spectral density (pV^2 / Hz)') # Check that these units make sense!\n",
    "#plt.xlim([0,75]) # Change x limit\n",
    "\n",
    "plt.title(\"Welch's PSD\")\n",
    "plt.show()"
   ]
  },
  {
   "cell_type": "markdown",
   "id": "96bfaca1",
   "metadata": {},
   "source": [
    "## Generate & plot spectrogram\n",
    "As a final step, we can plot a **spectrogram** of our signal. This is a common way to visualize EEG signals. The spectrogram results from doing the FFT on the snippet of the signal that falls into a “window,” plotting the frequency content in the window, then moving the window in time and plotting the frequency content again (and again) until the window has moved across the entire signal."
   ]
  },
  {
   "cell_type": "code",
   "execution_count": null,
   "id": "2d06f455",
   "metadata": {},
   "outputs": [],
   "source": [
    "vmax = 20 # change the max value on your spectogram -- you may need to adjust this\n",
    "\n",
    "wind = np.hanning(1024) # Create a \"hanning\" window with a given binning window size\n",
    "\n",
    "# Create the spectrogram and plot\n",
    "fig = plt.figure() \n",
    "\n",
    "# Change closed to open below to generate for open\n",
    "f, tt, Sxx = signal.spectrogram(closed_recording,sampling_freq,wind,len(wind),len(wind)-1)\n",
    "\n",
    "# You can change cmap & vmax if you want\n",
    "plt.pcolormesh(tt,f,Sxx,cmap='viridis',vmax=vmax)\n",
    "plt.ylabel('Frequency (Hz)')\n",
    "plt.xlabel('Time (sec)')\n",
    "# plt.ylim([0,75]) # set the ylimit\n",
    "cbar = plt.colorbar()\n",
    "cbar.ax.set_ylabel('Power ($V^2$)')\n",
    "plt.show()"
   ]
  }
 ],
 "metadata": {
  "kernelspec": {
   "display_name": "Python 3",
   "language": "python",
   "name": "python3"
  },
  "language_info": {
   "codemirror_mode": {
    "name": "ipython",
    "version": 3
   },
   "file_extension": ".py",
   "mimetype": "text/x-python",
   "name": "python",
   "nbconvert_exporter": "python",
   "pygments_lexer": "ipython3",
   "version": "3.11.0"
  }
 },
 "nbformat": 4,
 "nbformat_minor": 5
}