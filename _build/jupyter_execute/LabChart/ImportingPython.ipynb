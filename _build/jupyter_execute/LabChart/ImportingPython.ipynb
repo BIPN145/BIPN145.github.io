{
 "cells": [
  {
   "cell_type": "markdown",
   "metadata": {},
   "source": [
    "# Importing LabChart (Python)\n",
    "\n",
    "This notebook will help you import and plot *any* exported .txt file from LabChart.\n",
    "\n",
    "<mark>To run this, you will need to upload an exported .txt file from LabChart into Colab. First, [export the channels you'd like to plot](https://bipn145.github.io/LabChart/ExportingLabChart.html). Then [upload the exported file it to Colab](https://bipn145.github.io/intro.html).</mark>\n",
    "\n",
    "## Step 1. Setup\n",
    "\n",
    ">**Task**: Run the cell below to import our necessary packages and configure the notebook environment."
   ]
  },
  {
   "cell_type": "code",
   "execution_count": 1,
   "metadata": {},
   "outputs": [
    {
     "name": "stdout",
     "output_type": "stream",
     "text": [
      "Packages imported.\n"
     ]
    }
   ],
   "source": [
    "# Import our packages\n",
    "import matplotlib.pyplot as plt\n",
    "import numpy as np\n",
    "\n",
    "print('Packages imported.')"
   ]
  },
  {
   "cell_type": "markdown",
   "metadata": {},
   "source": [
    "## Step 2. Import data\n",
    "Now that we have our notebook configured, we can import our data. We will import it as a numpy array.\n",
    "\n",
    "To do so:\n",
    "\n",
    "1. Upload your file into the same folder as this code.\n",
    "2. Change the filename below to your filename.\n",
    "3. Define a list of column names. If you exported one channel, you'll have just two columns, given as two strings in a list: `['time','recording']`. This is in the code by default. However, you should add a column name **if** you exported more than one channel. In other words, you could write `['time','recording_1','recording_2']`."
   ]
  },
  {
   "cell_type": "code",
   "execution_count": 2,
   "metadata": {},
   "outputs": [
    {
     "name": "stdout",
     "output_type": "stream",
     "text": [
      "Your file was not found. Please make sure you've uploaded it following these directions: \n",
      "https://bipn145.github.io/intro.html#uploading-data-to-colab\n"
     ]
    },
    {
     "ename": "NameError",
     "evalue": "name 'data' is not defined",
     "output_type": "error",
     "traceback": [
      "\u001b[0;31m---------------------------------------------------------------------------\u001b[0m",
      "\u001b[0;31mNameError\u001b[0m                                 Traceback (most recent call last)",
      "Cell \u001b[0;32mIn[2], line 13\u001b[0m\n\u001b[1;32m     10\u001b[0m \u001b[38;5;28;01mexcept\u001b[39;00m \u001b[38;5;167;01mValueError\u001b[39;00m:\n\u001b[1;32m     11\u001b[0m     \u001b[38;5;28mprint\u001b[39m(\u001b[38;5;124m'\u001b[39m\u001b[38;5;124mIt looks like your data is the wrong shape, did you export the CURRENT SELECTION only?\u001b[39m\u001b[38;5;124m'\u001b[39m)\n\u001b[0;32m---> 13\u001b[0m \u001b[38;5;28;01mif\u001b[39;00m \u001b[43mdata\u001b[49m\u001b[38;5;241m.\u001b[39mshape[\u001b[38;5;241m1\u001b[39m] \u001b[38;5;241m==\u001b[39m \u001b[38;5;241m2\u001b[39m:\n\u001b[1;32m     14\u001b[0m     time, recording \u001b[38;5;241m=\u001b[39m data[:,\u001b[38;5;241m0\u001b[39m], data[:,\u001b[38;5;241m1\u001b[39m]\n\u001b[1;32m     15\u001b[0m     \u001b[38;5;28mprint\u001b[39m(\u001b[38;5;124m'\u001b[39m\u001b[38;5;124mStored file with two columns as recording & time.\u001b[39m\u001b[38;5;124m'\u001b[39m)\n",
      "\u001b[0;31mNameError\u001b[0m: name 'data' is not defined"
     ]
    }
   ],
   "source": [
    "# Change the filename to EXACTLY match your file\n",
    "filename = 'recording.txt'\n",
    "\n",
    "# Load & check shape of file\n",
    "try:\n",
    "    data = np.genfromtxt(filename, dtype=float, skip_header=6, delimiter='\\t',encoding = 'unicode_escape')\n",
    "except FileNotFoundError:\n",
    "    print('Your file was not found. Please make sure you\\'ve uploaded it following these directions: ')\n",
    "    print('https://bipn145.github.io/intro.html#uploading-data-to-colab')\n",
    "except ValueError:\n",
    "    print('It looks like your data is the wrong shape, did you export the CURRENT SELECTION only?')\n",
    "\n",
    "if data.shape[1] == 2:\n",
    "    time, recording = data[:,0], data[:,1]\n",
    "    print('Stored file with two columns as recording & time.')\n",
    "elif data.shape[1] == 3:\n",
    "    time, recording = data[:,0], data[:,1]\n",
    "    recording_2 = data[:,2]\n",
    "    print('Stored file with two columns as recording_1, recording_2, & time.')\n",
    "else:\n",
    "    print('Invalid data file. Please upload a .txt file exported from LabChart with one or two channels.')"
   ]
  },
  {
   "cell_type": "markdown",
   "metadata": {},
   "source": [
    "## Modify axes units *(optional)*\n",
    "\n",
    "LabChart data *should* export by volts and second by default. We can inspect the timestamps to see whether these are in milliseconds or seconds.\n",
    "\n",
    "**Note**: Remember that if your data was collected at 40,000 Hz (40 kHz), this means that there is 1/40,000 (or 0.000025) seconds between each data point. "
   ]
  },
  {
   "cell_type": "code",
   "execution_count": null,
   "metadata": {},
   "outputs": [],
   "source": [
    "try:\n",
    "    print('\\nTime between each data point is:')\n",
    "    print(time[1]-time[0],' seconds')\n",
    "except NameError:\n",
    "    print('You do not currently have a known time axis.')\n",
    "    length = input('What is the length of your recording in seconds?')\n",
    "    time = np.linspace(0,float(length)+1,len(recording))\n",
    "    print(time)"
   ]
  },
  {
   "cell_type": "markdown",
   "metadata": {},
   "source": [
    "Instead of showing the axes in seconds, you might choose to show it in milliseconds. To do so, we should multiply the entire array by 1000, to convert from **s** to **ms**. You can multiply arrays in Python by taking the original array, and writing an expression to multiple it. For example:\n",
    "\n",
    "```\n",
    "array_s = np.array([0.000 , 0.0010 , 0.0020 , 0.0030 ])\n",
    "array_ms = array_s * 1000\n",
    "```\n",
    "\n",
    "> **Task**: Create an array of timestamps in milliseconds by multiplying `time` by 1000. Assign it to `timestamps_ms`. Check that this worked by printing `timestamps_ms`."
   ]
  },
  {
   "cell_type": "code",
   "execution_count": null,
   "metadata": {},
   "outputs": [],
   "source": [
    "# Convert into ms here\n",
    "timestamps_ms = ..."
   ]
  },
  {
   "cell_type": "markdown",
   "metadata": {},
   "source": [
    "Now you should have a `timestamps_ms` variable that you can plot with below, if you'd like!"
   ]
  },
  {
   "cell_type": "markdown",
   "metadata": {},
   "source": [
    "## Step 3. Plot data\n",
    "The code below will plot your data using [`plt.plot()`](https://matplotlib.org/stable/api/_as_gen/matplotlib.pyplot.plot.html). This function requires two inputs: x and y. When we're plotting recordings, typically this means x = time, and y = voltage. If you'd like to plot your timestamps in milliseconds, you'll need to replace `time` with `timestamps_ms`. You should also add x and y labels."
   ]
  },
  {
   "cell_type": "code",
   "execution_count": null,
   "metadata": {
    "scrolled": false
   },
   "outputs": [],
   "source": [
    "# Set up figure & plot\n",
    "fig,ax = plt.subplots(figsize=(10,4))\n",
    "\n",
    "# Plot the data\n",
    "plt.plot(time,recording)\n",
    "\n",
    "# X label\n",
    "plt.xlabel('LABEL') \n",
    "\n",
    "# Y label\n",
    "plt.ylabel('LABEL') \n",
    "\n",
    "# This makes the axis labels print without scientific notation\n",
    "# You can comment this line if you do not wish to use it\n",
    "ax.ticklabel_format(useOffset=False, style='plain') \n",
    "\n",
    "# You can uncomment the line below to restrict the x axis plotting\n",
    "#plt.xlim([200,700])\n",
    "\n",
    "plt.show()"
   ]
  },
  {
   "cell_type": "markdown",
   "metadata": {},
   "source": [
    "Once you've filled out this notebook, you can use this to plot *any* exported text file from LabChart, from earthworms, to leeches, and beyond!"
   ]
  }
 ],
 "metadata": {
  "kernelspec": {
   "display_name": "Python 3 (ipykernel)",
   "language": "python",
   "name": "python3"
  },
  "language_info": {
   "codemirror_mode": {
    "name": "ipython",
    "version": 3
   },
   "file_extension": ".py",
   "mimetype": "text/x-python",
   "name": "python",
   "nbconvert_exporter": "python",
   "pygments_lexer": "ipython3",
   "version": "3.11.0"
  }
 },
 "nbformat": 4,
 "nbformat_minor": 2
}