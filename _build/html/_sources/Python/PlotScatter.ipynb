{
 "cells": [
  {
   "cell_type": "markdown",
   "id": "1672b53e",
   "metadata": {},
   "source": [
    "# Plot scatter\n",
    "\n",
    "This notebook will help you generate a scatterplot in Python. **Scatterplots** help us visually inspect the relationship between two continuous variables. This notebook should be used to plot your **resistance** vs. **time constant** observations from the RC circuit lab, for example.\n",
    "\n",
    "After plotting, we'll also show how to generate a linear regression line for your data. **Linear regression** is a common tool to model a linear relationship between two variables.\n",
    "\n",
    "<mark>If you're new to Jupyter Notebooks and/or Python, please be sure to work through the Introduction notebook before this one.</mark>\n",
    "\n",
    "<p align=\"center\">\n",
    "  <img src=\"https://imgs.xkcd.com/comics/linear_regression.png\" />\n",
    "</p>\n",
    "\n",
    "<br>\n",
    "<div align=\"center\"><i>Comic: XKCD https://xkcd.com/1725/</i></div>\n",
    "    \n",
    "<hr>"
   ]
  },
  {
   "cell_type": "markdown",
   "id": "fa2f211c",
   "metadata": {},
   "source": [
    "## Setup\n",
    "\n",
    "At the start of almost every coding notebook, we'll import the packages we need. To plot our scatter plot, we just need package: `matplotlib.pyplot`. \n",
    "\n",
    "> **Task**: Import the `matplotlib.pyplot` package as `plt`, just as you did in the introduction notebook."
   ]
  },
  {
   "cell_type": "code",
   "execution_count": 4,
   "id": "b5627e3c",
   "metadata": {},
   "outputs": [],
   "source": [
    "# Import necessary packages here\n",
    "\n",
    "\n",
    "# These lines are additional configuration steps for matplotlib\n",
    "%matplotlib inline \n",
    "%config InlineBackend.figure_format = 'retina'"
   ]
  },
  {
   "cell_type": "markdown",
   "id": "5200e250",
   "metadata": {},
   "source": [
    "## Define values to plot\n",
    "With matplotlib imported, we can now use the scatter function by calling `plt.scatter()`. However, we need to define what to plot first. One straightforward way to think about this is to define an x variable and a y variable. Below, there are **lists** of values (defined in brackets `[ ]`) assigned to `x` and `y`. Replace these with your own values, depending on what you'd like to plot on the x and y axis.\n",
    "\n",
    "**Note**: Remember that in a scatterplot, each dot has both an x and a y value. Therefore, these lists should be the same length. The coordinate for each point will be the values at the same **index** in `x` and `y`. For example, the coordinate for the very first point will be `x[0],y[0]`."
   ]
  },
  {
   "cell_type": "code",
   "execution_count": 1,
   "id": "53dc0802",
   "metadata": {},
   "outputs": [],
   "source": [
    "# Replace your scatterplot values here\n",
    "x = [1,2,3,4,5,6]\n",
    "y = [4,5,6,7,8,9]"
   ]
  },
  {
   "cell_type": "markdown",
   "id": "01196ae2",
   "metadata": {},
   "source": [
    "## Plot & label\n",
    "We can now plot our values using the code below. Remember that you can add axis labels using `plt.xlabel()`. If you need a reminder for how to do this, refer to the Introduction notebook.\n",
    "\n",
    "```\n",
    "plt.scatter(x,y)\n",
    "\n",
    "# Add labels here\n",
    "\n",
    "plt.show()\n",
    "```\n",
    "\n",
    "> **Task**: Create a cell below with the code above. Add code where it says `# Add labels here` to label your axes."
   ]
  },
  {
   "cell_type": "markdown",
   "id": "d87969f8",
   "metadata": {},
   "source": [
    "## Add a linear regression line\n",
    "If we have an a priori hypothesis about the relationship between our variables, or would like to predict additional data points, we can attempt to fit a linear regression line to our data. To do so, we will do the following:\n",
    "\n",
    "1. Import two more packages: `numpy` (numerical python; the convention is to import this as `np`) and the `stats` package from `scipy` (scientific python).\n",
    "2. Convert our x and y lists into arrays, so that we can perform math on them.\n",
    "3. Perform a linear regression using `linregress()` from the `stats` library. The [`linregress()`](https://docs.scipy.org/doc/scipy/reference/generated/scipy.stats.linregress.html) function calculates a **linear least-squares regression** for two sets of measurements. It returns several parameters, including the slope (`slope`), the y-intercept (`intercept`), the correlation coefficient (`r_value`), the two-tailed p-value (`p_value`), and the standard error of the estimate (`std_err`).\n",
    "4. Plot the regression line, using the computed slope and intercept to construct it (mx+b).\n",
    "5. Plot the original data points."
   ]
  },
  {
   "cell_type": "code",
   "execution_count": 4,
   "id": "0e4f8519",
   "metadata": {
    "scrolled": false
   },
   "outputs": [
    {
     "data": {
      "image/png": "[encoded data removed]",
      "text/plain": [
       "<Figure size 432x288 with 1 Axes>"
      ]
     },
     "metadata": {
      "needs_background": "light"
     },
     "output_type": "display_data"
    }
   ],
   "source": [
    "# 1 - Import additional packages\n",
    "import numpy as np\n",
    "from scipy import stats\n",
    "\n",
    "# 2 - Convert x and y to numpy arrays\n",
    "x_array = np.array(x)\n",
    "y_array = np.array(y)\n",
    "\n",
    "# 3 - Perform linear regression\n",
    "slope, intercept, r_value, p_value, std_err = stats.linregress(x_array,y_array)\n",
    "\n",
    "# 4 - Plot a regression line, using the slope & intercept\n",
    "plt.plot(x_array, slope*x_array+intercept, color='gray',label='fitted line')\n",
    "\n",
    "# 5 - Plot our original data points and show\n",
    "plt.scatter(x_array,y_array,label='original data')\n",
    "plt.legend()\n",
    "plt.show()"
   ]
  },
  {
   "cell_type": "markdown",
   "id": "ec9121ea",
   "metadata": {},
   "source": [
    "It is also a good idea to print the computed statistics from our linear regression above. These are contained in `r_value` and `p_value`:\n",
    "\n",
    "* `r_value`: This is the Perason correlation coefficient. It measures the strength and direction of the linear relationship between the two variables. It ranges from -1 to 1, where a value of -1 indicates a strong negative linear relationship, a value of 0 indicates no linear relationship, and a value of 1 indicates a strong positive linear relationship.\n",
    "* `p_value`: The p-value for a hypothesis test whose null hypothesis is that the slope is zero (in other words, that there is no relationship between x and y. A smaller p value (we typically use a 0.05 cutoff) suggests that it is unlikely the slope is zero.\n",
    "\n",
    "It can also be helpful to look at `std_err`: the standard error of the estimate. It represents the standard deviation of the residuals (the differences between the observed y values and the predicted y values). A small standard error indicates that the fitted line is a good fit for the data.\n",
    "\n",
    "> **Task**: Print your values for `r_value`,`p_value`, and `std_err` in the cell below."
   ]
  },
  {
   "cell_type": "code",
   "execution_count": null,
   "id": "fbf0433b",
   "metadata": {},
   "outputs": [],
   "source": []
  },
  {
   "cell_type": "markdown",
   "id": "6f7c51f4",
   "metadata": {},
   "source": [
    "Finally, sometimes it is useful to have the fitted line equation. We can create a text string by adding variables together, like so:\n",
    "```\n",
    "text_string = 'this is ' + variable\n",
    "```\n",
    "*However*, Python will not allow us to add anything that isn't a string -- we have to convert it to a string first using the `str()` function. To do so, we could write:\n",
    "```\n",
    "text_string = 'this is ' + str(variable)\n",
    "```\n",
    ">**Task**: Below, create a text string for the fitted line equation, in the form of Y = MX + B, where M is your slope, and B is your intercept. In other words, it should look something like this:\n",
    "```\n",
    "Y = 1.0X + 3.0\n",
    "```\n",
    "\n",
    "Assign the fitted line equation to a variable called `label`."
   ]
  },
  {
   "cell_type": "code",
   "execution_count": null,
   "id": "0b6da971",
   "metadata": {},
   "outputs": [],
   "source": [
    "label = ..."
   ]
  },
  {
   "cell_type": "markdown",
   "id": "3af4ca17",
   "metadata": {},
   "source": [
    "## Add text for your fitted line to the plot *(optional)*\n",
    "\n",
    "It is useful to report the fitted line equation either on the plot itself or in the figure caption. The code below will show you how to add text using `plt.text()`, which takes three arguments: the x,y location of the text as well as the string itself (s). If you'd like, you can integrate this into your code above."
   ]
  },
  {
   "cell_type": "code",
   "execution_count": 17,
   "id": "acfadb0b",
   "metadata": {
    "scrolled": true
   },
   "outputs": [
    {
     "data": {
      "image/png": "[encoded data removed]",
      "text/plain": [
       "<Figure size 432x288 with 1 Axes>"
      ]
     },
     "metadata": {
      "image/png": {
       "height": 252,
       "width": 380
      },
      "needs_background": "light"
     },
     "output_type": "display_data"
    }
   ],
   "source": [
    "plt.figure()\n",
    "plt.text(x = 0.1, y = 0.1, s = label)\n",
    "plt.show()"
   ]
  },
  {
   "cell_type": "markdown",
   "id": "6e538ac8",
   "metadata": {},
   "source": [
    "<hr>\n",
    "\n",
    "## Additional notes & resources\n",
    "\n",
    "Another way to generate a scatterplot with a linear regression line is the [seaborn regplot function](https://seaborn.pydata.org/generated/seaborn.regplot.html)!\n",
    "\n",
    "## About this Notebook\n",
    "This notebook was created by [Ashley Juavinett](https://github.com/ajuavinett) for classes at UC San Diego."
   ]
  }
 ],
 "metadata": {
  "kernelspec": {
   "display_name": "Python 3",
   "language": "python",
   "name": "python3"
  },
  "language_info": {
   "codemirror_mode": {
    "name": "ipython",
    "version": 3
   },
   "file_extension": ".py",
   "mimetype": "text/x-python",
   "name": "python",
   "nbconvert_exporter": "python",
   "pygments_lexer": "ipython3",
   "version": "3.7.3"
  }
 },
 "nbformat": 4,
 "nbformat_minor": 5
}
